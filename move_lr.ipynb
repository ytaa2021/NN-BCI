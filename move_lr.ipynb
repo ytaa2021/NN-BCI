{
 "cells": [
  {
   "cell_type": "code",
   "execution_count": 27,
   "metadata": {},
   "outputs": [],
   "source": [
    "import pandas as pd\n",
    "from sklearn.model_selection import train_test_split\n",
    "from sklearn.preprocessing import StandardScaler, LabelEncoder\n",
    "from tensorflow.keras.models import Sequential\n",
    "from tensorflow.keras.layers import Conv1D, MaxPooling1D, Flatten, Dense\n",
    "from tensorflow.keras.utils import to_categorical"
   ]
  },
  {
   "cell_type": "code",
   "execution_count": 28,
   "metadata": {},
   "outputs": [],
   "source": [
    "# Load the data\n",
    "df = pd.read_csv('labeled-data.csv')\n",
    "\n",
    "# Remove examples labeled 'Done'\n",
    "df_filtered = df[df['label'] != 'Done']\n",
    "\n",
    "# Extract features and labels\n",
    "# Only include features F3,F4,C3,Cz,C4,P3,P4\n",
    "X = df_filtered.iloc[:, 2:9].values\n",
    "y = df_filtered['label'].values"
   ]
  },
  {
   "cell_type": "code",
   "execution_count": 29,
   "metadata": {},
   "outputs": [],
   "source": [
    "# Standardize the data\n",
    "scaler = StandardScaler()\n",
    "X = scaler.fit_transform(X)\n",
    "\n",
    "# Encode labels for binary classification (N vs. Non-N)\n",
    "label_encoder_binary = LabelEncoder()\n",
    "y_encoded_binary = label_encoder_binary.fit_transform(df_filtered['label'] == 'N')\n",
    "\n",
    "# Convert labels to categorical\n",
    "y_one_hot_binary = to_categorical(y_encoded_binary, num_classes=2)"
   ]
  },
  {
   "cell_type": "code",
   "execution_count": 30,
   "metadata": {},
   "outputs": [],
   "source": [
    "# Split the data into train and test sets for binary classification\n",
    "X_train_binary, X_test_binary, y_train_binary, y_test_binary = train_test_split(\n",
    "    X, y_one_hot_binary, test_size=0.1, random_state=42\n",
    ")\n",
    "\n",
    "# Reshape the data for Conv1D layer\n",
    "X_train_binary = X_train_binary.reshape(X_train_binary.shape[0], X_train_binary.shape[1], 1)\n",
    "X_test_binary = X_test_binary.reshape(X_test_binary.shape[0], X_test_binary.shape[1], 1)"
   ]
  },
  {
   "cell_type": "code",
   "execution_count": 31,
   "metadata": {},
   "outputs": [],
   "source": [
    "# Build the CNN model for binary classification\n",
    "# 1 CNN & 1 Dense & 2 output\n",
    "model_binary = Sequential()\n",
    "model_binary.add(Conv1D(filters=32, kernel_size=3, activation='relu', input_shape=(X_train_binary.shape[1], 1)))\n",
    "model_binary.add(MaxPooling1D(pool_size=2))\n",
    "model_binary.add(Flatten())\n",
    "model_binary.add(Dense(64, activation='relu'))\n",
    "model_binary.add(Dense(2, activation='softmax'))"
   ]
  },
  {
   "cell_type": "code",
   "execution_count": 32,
   "metadata": {},
   "outputs": [
    {
     "name": "stdout",
     "output_type": "stream",
     "text": [
      "Epoch 1/10\n",
      "34/34 [==============================] - 0s 4ms/step - loss: 0.6830 - accuracy: 0.6509 - val_loss: 0.6653 - val_accuracy: 0.6556\n",
      "Epoch 2/10\n",
      "34/34 [==============================] - 0s 1ms/step - loss: 0.6523 - accuracy: 0.6519 - val_loss: 0.6562 - val_accuracy: 0.6556\n",
      "Epoch 3/10\n",
      "34/34 [==============================] - 0s 1ms/step - loss: 0.6472 - accuracy: 0.6519 - val_loss: 0.6500 - val_accuracy: 0.6556\n",
      "Epoch 4/10\n",
      "34/34 [==============================] - 0s 1ms/step - loss: 0.6462 - accuracy: 0.6519 - val_loss: 0.6457 - val_accuracy: 0.6556\n",
      "Epoch 5/10\n",
      "34/34 [==============================] - 0s 1ms/step - loss: 0.6452 - accuracy: 0.6519 - val_loss: 0.6417 - val_accuracy: 0.6556\n",
      "Epoch 6/10\n",
      "34/34 [==============================] - 0s 1ms/step - loss: 0.6442 - accuracy: 0.6537 - val_loss: 0.6380 - val_accuracy: 0.6630\n",
      "Epoch 7/10\n",
      "34/34 [==============================] - 0s 1ms/step - loss: 0.6436 - accuracy: 0.6537 - val_loss: 0.6370 - val_accuracy: 0.6630\n",
      "Epoch 8/10\n",
      "34/34 [==============================] - 0s 1ms/step - loss: 0.6432 - accuracy: 0.6537 - val_loss: 0.6369 - val_accuracy: 0.6630\n",
      "Epoch 9/10\n",
      "34/34 [==============================] - 0s 1ms/step - loss: 0.6434 - accuracy: 0.6537 - val_loss: 0.6364 - val_accuracy: 0.6630\n",
      "Epoch 10/10\n",
      "34/34 [==============================] - 0s 1ms/step - loss: 0.6429 - accuracy: 0.6546 - val_loss: 0.6362 - val_accuracy: 0.6630\n",
      "5/5 [==============================] - 0s 902us/step - loss: 0.6322 - accuracy: 0.6733\n",
      "Binary Classification Test Accuracy: 0.6733333468437195\n"
     ]
    }
   ],
   "source": [
    "# Compile the model\n",
    "model_binary.compile(optimizer='adam', loss='categorical_crossentropy', metrics=['accuracy'])\n",
    "\n",
    "# Train the model\n",
    "model_binary.fit(X_train_binary, y_train_binary, epochs=10, batch_size=32, validation_split=0.2)\n",
    "\n",
    "# Evaluate the model on the test set for binary classification\n",
    "accuracy_binary = model_binary.evaluate(X_test_binary, y_test_binary)[1]\n",
    "print(f'Binary Classification Test Accuracy: {accuracy_binary}')"
   ]
  },
  {
   "cell_type": "code",
   "execution_count": 33,
   "metadata": {},
   "outputs": [],
   "source": [
    "# Results:\n",
    "# Accuracy is higher for L vs R classification than N vs (L or R). \n",
    "# Using same 1 CNN & 1 Dense Layer NN"
   ]
  }
 ],
 "metadata": {
  "kernelspec": {
   "display_name": "Python 3.9.6 64-bit",
   "language": "python",
   "name": "python3"
  },
  "language_info": {
   "codemirror_mode": {
    "name": "ipython",
    "version": 3
   },
   "file_extension": ".py",
   "mimetype": "text/x-python",
   "name": "python",
   "nbconvert_exporter": "python",
   "pygments_lexer": "ipython3",
   "version": "3.9.6"
  },
  "orig_nbformat": 4,
  "vscode": {
   "interpreter": {
    "hash": "31f2aee4e71d21fbe5cf8b01ff0e069b9275f58929596ceb00d14d90e3e16cd6"
   }
  }
 },
 "nbformat": 4,
 "nbformat_minor": 2
}
