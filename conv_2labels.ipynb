{
 "cells": [
  {
   "cell_type": "code",
   "execution_count": 33,
   "metadata": {},
   "outputs": [],
   "source": [
    "import pandas as pd\n",
    "from sklearn.model_selection import train_test_split\n",
    "from sklearn.preprocessing import StandardScaler, LabelEncoder\n",
    "from sklearn.metrics import accuracy_score\n",
    "from tensorflow.keras.models import Sequential\n",
    "from tensorflow.keras.layers import Conv1D, MaxPooling1D, Flatten, Dense\n",
    "from tensorflow.keras.utils import to_categorical"
   ]
  },
  {
   "cell_type": "code",
   "execution_count": 34,
   "metadata": {},
   "outputs": [],
   "source": [
    "# Load the data\n",
    "df = pd.read_csv('labeled-data.csv')\n",
    "\n",
    "# Exclude examples labeled 'N' or 'Done'\n",
    "df_filtered = df[(df['label'] != 'N') & (df['label'] != 'Done')]\n",
    "\n",
    "# Extract features and labels\n",
    "X = df_filtered.iloc[:, 2:9].values  # assuming your features start from the 3rd column\n",
    "y = df_filtered['label'].values"
   ]
  },
  {
   "cell_type": "code",
   "execution_count": 35,
   "metadata": {},
   "outputs": [],
   "source": [
    "# Specify the order of your classes\n",
    "class_order = ['L', 'R']  # Adjust this based on your actual class order\n",
    "\n",
    "# Initialize and fit the LabelEncoder with specified classes\n",
    "label_encoder = LabelEncoder()\n",
    "label_encoder.fit(class_order)\n",
    "\n",
    "# Transform labels to encoded format\n",
    "y_encoded = label_encoder.transform(y)"
   ]
  },
  {
   "cell_type": "code",
   "execution_count": 36,
   "metadata": {},
   "outputs": [],
   "source": [
    "# Split the data into train and test sets\n",
    "X_train, X_test, y_train, y_test = train_test_split(X, y_encoded, test_size=0.1, random_state=42)\n",
    "\n",
    "# Reshape the data for Conv1D layer\n",
    "X_train = X_train.reshape(X_train.shape[0], X_train.shape[1], 1)\n",
    "X_test = X_test.reshape(X_test.shape[0], X_test.shape[1], 1)"
   ]
  },
  {
   "cell_type": "code",
   "execution_count": 41,
   "metadata": {},
   "outputs": [
    {
     "name": "stdout",
     "output_type": "stream",
     "text": [
      "Shape after the first convolutional layer: (None, 5, 32)\n",
      "Shape after the first convolutional layer: (None, 5, 32)\n"
     ]
    }
   ],
   "source": [
    "# Build the CNN model with two convolutional layers\n",
    "model = Sequential()\n",
    "model.add(Conv1D(filters=32, kernel_size=3, activation='relu', input_shape=(X_train.shape[1], 1)))\n",
    "print(\"Shape after the first convolutional layer:\", model.output_shape)\n",
    "\n",
    "model.add(MaxPooling1D(pool_size=2))\n",
    "print(\"Shape after the first convolutional layer:\", model.layers[1].input_shape)\n",
    "model.add(Conv1D(filters=64, kernel_size=1, activation='relu'))\n",
    "model.add(MaxPooling1D(pool_size=2))\n",
    "model.add(Flatten())\n",
    "model.add(Dense(1, activation='sigmoid'))  # Binary classification, so 1 neuron with sigmoid activation"
   ]
  },
  {
   "cell_type": "code",
   "execution_count": 42,
   "metadata": {},
   "outputs": [],
   "source": [
    "# Compile the model\n",
    "model.compile(optimizer='adam', loss='binary_crossentropy', metrics=['accuracy'])"
   ]
  },
  {
   "cell_type": "code",
   "execution_count": 43,
   "metadata": {},
   "outputs": [
    {
     "name": "stdout",
     "output_type": "stream",
     "text": [
      "Epoch 1/10\n",
      "25/25 [==============================] - 0s 5ms/step - loss: 0.6253 - accuracy: 0.6860 - val_loss: 0.6177 - val_accuracy: 0.6742\n",
      "Epoch 2/10\n",
      "25/25 [==============================] - 0s 2ms/step - loss: 0.6051 - accuracy: 0.6885 - val_loss: 0.6061 - val_accuracy: 0.6742\n",
      "Epoch 3/10\n",
      "25/25 [==============================] - 0s 2ms/step - loss: 0.5990 - accuracy: 0.6885 - val_loss: 0.5997 - val_accuracy: 0.6742\n",
      "Epoch 4/10\n",
      "25/25 [==============================] - 0s 2ms/step - loss: 0.5950 - accuracy: 0.6885 - val_loss: 0.5950 - val_accuracy: 0.6742\n",
      "Epoch 5/10\n",
      "25/25 [==============================] - 0s 2ms/step - loss: 0.5942 - accuracy: 0.6860 - val_loss: 0.5902 - val_accuracy: 0.6742\n",
      "Epoch 6/10\n",
      "25/25 [==============================] - 0s 2ms/step - loss: 0.5904 - accuracy: 0.6885 - val_loss: 0.5969 - val_accuracy: 0.6742\n",
      "Epoch 7/10\n",
      "25/25 [==============================] - 0s 2ms/step - loss: 0.5833 - accuracy: 0.6873 - val_loss: 0.5836 - val_accuracy: 0.6742\n",
      "Epoch 8/10\n",
      "25/25 [==============================] - 0s 2ms/step - loss: 0.5782 - accuracy: 0.6910 - val_loss: 0.5850 - val_accuracy: 0.6854\n",
      "Epoch 9/10\n",
      "25/25 [==============================] - 0s 2ms/step - loss: 0.5750 - accuracy: 0.6910 - val_loss: 0.5867 - val_accuracy: 0.6854\n",
      "Epoch 10/10\n",
      "25/25 [==============================] - 0s 2ms/step - loss: 0.5702 - accuracy: 0.7011 - val_loss: 0.5853 - val_accuracy: 0.6742\n"
     ]
    },
    {
     "data": {
      "text/plain": [
       "<keras.src.callbacks.History at 0x29088dc40>"
      ]
     },
     "execution_count": 43,
     "metadata": {},
     "output_type": "execute_result"
    }
   ],
   "source": [
    "# Train the model\n",
    "model.fit(X_train, y_train, epochs=10, batch_size=32, validation_split=0.1)"
   ]
  },
  {
   "cell_type": "code",
   "execution_count": 44,
   "metadata": {},
   "outputs": [
    {
     "name": "stdout",
     "output_type": "stream",
     "text": [
      "4/4 [==============================] - 0s 957us/step\n",
      "Test Accuracy: 0.6326530612244898\n"
     ]
    }
   ],
   "source": [
    "# Evaluate the model on the test set\n",
    "y_pred = model.predict(X_test)\n",
    "y_pred_classes = (y_pred > 0.5).astype(int)\n",
    "\n",
    "accuracy = accuracy_score(y_test, y_pred_classes)\n",
    "print(f'Test Accuracy: {accuracy}')"
   ]
  }
 ],
 "metadata": {
  "kernelspec": {
   "display_name": "Python 3.9.6 64-bit",
   "language": "python",
   "name": "python3"
  },
  "language_info": {
   "codemirror_mode": {
    "name": "ipython",
    "version": 3
   },
   "file_extension": ".py",
   "mimetype": "text/x-python",
   "name": "python",
   "nbconvert_exporter": "python",
   "pygments_lexer": "ipython3",
   "version": "3.9.6"
  },
  "orig_nbformat": 4,
  "vscode": {
   "interpreter": {
    "hash": "31f2aee4e71d21fbe5cf8b01ff0e069b9275f58929596ceb00d14d90e3e16cd6"
   }
  }
 },
 "nbformat": 4,
 "nbformat_minor": 2
}
