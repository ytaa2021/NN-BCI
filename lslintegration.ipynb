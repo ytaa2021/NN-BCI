{
 "cells": [
  {
   "cell_type": "code",
   "execution_count": 1,
   "metadata": {},
   "outputs": [
    {
     "ename": "ModuleNotFoundError",
     "evalue": "No module named 'pandas'",
     "output_type": "error",
     "traceback": [
      "\u001b[0;31m---------------------------------------------------------------------------\u001b[0m",
      "\u001b[0;31mModuleNotFoundError\u001b[0m                       Traceback (most recent call last)",
      "Cell \u001b[0;32mIn[1], line 1\u001b[0m\n\u001b[0;32m----> 1\u001b[0m \u001b[38;5;28;01mimport\u001b[39;00m \u001b[38;5;21;01mpandas\u001b[39;00m \u001b[38;5;28;01mas\u001b[39;00m \u001b[38;5;21;01mpd\u001b[39;00m\n\u001b[1;32m      2\u001b[0m \u001b[38;5;28;01mfrom\u001b[39;00m \u001b[38;5;21;01msklearn\u001b[39;00m\u001b[38;5;21;01m.\u001b[39;00m\u001b[38;5;21;01mmodel_selection\u001b[39;00m \u001b[38;5;28;01mimport\u001b[39;00m train_test_split\n\u001b[1;32m      3\u001b[0m \u001b[38;5;28;01mfrom\u001b[39;00m \u001b[38;5;21;01msklearn\u001b[39;00m\u001b[38;5;21;01m.\u001b[39;00m\u001b[38;5;21;01mpreprocessing\u001b[39;00m \u001b[38;5;28;01mimport\u001b[39;00m StandardScaler, LabelEncoder\n",
      "\u001b[0;31mModuleNotFoundError\u001b[0m: No module named 'pandas'"
     ]
    }
   ],
   "source": [
    "import pandas as pd\n",
    "from sklearn.model_selection import train_test_split\n",
    "from sklearn.preprocessing import StandardScaler, LabelEncoder\n",
    "from sklearn.metrics import accuracy_score\n",
    "from tensorflow.keras.models import Sequential\n",
    "from tensorflow.keras.layers import Conv1D, MaxPooling1D, Flatten, Dense\n",
    "from tensorflow.keras.utils import to_categorical"
   ]
  },
  {
   "cell_type": "code",
   "execution_count": 62,
   "metadata": {},
   "outputs": [],
   "source": [
    "# Load the data\n",
    "df = pd.read_csv('labeled-data.csv')\n",
    "\n",
    "# Exclude examples labeled 'N' or 'Done'\n",
    "df_filtered = df[(df['label'] != 'N') & (df['label'] != 'Done')]\n",
    "\n",
    "# Extract features and labels\n",
    "X = df_filtered.iloc[:, 2:9].values  # assuming your features start from the 3rd column\n",
    "y = df_filtered['label'].values"
   ]
  },
  {
   "cell_type": "code",
   "execution_count": 63,
   "metadata": {},
   "outputs": [],
   "source": [
    "# Specify the order of your classes\n",
    "class_order = ['L', 'R']  # Adjust this based on your actual class order\n",
    "\n",
    "# Initialize and fit the LabelEncoder with specified classes\n",
    "label_encoder = LabelEncoder()\n",
    "label_encoder.fit(class_order)\n",
    "\n",
    "# Transform labels to encoded format\n",
    "y_encoded = label_encoder.transform(y)"
   ]
  },
  {
   "cell_type": "code",
   "execution_count": 64,
   "metadata": {},
   "outputs": [],
   "source": [
    "# Split the data into train and test sets\n",
    "X_train, X_test, y_train, y_test = train_test_split(X, y_encoded, test_size=0.1, random_state=42)\n",
    "\n",
    "# Reshape the data for Conv1D layer\n",
    "X_train = X_train.reshape(X_train.shape[0], X_train.shape[1], 1)\n",
    "X_test = X_test.reshape(X_test.shape[0], X_test.shape[1], 1)"
   ]
  },
  {
   "cell_type": "code",
   "execution_count": 65,
   "metadata": {},
   "outputs": [],
   "source": [
    "# Assuming X_train.shape[1] is the number of features in your data\n",
    "model = Sequential()\n",
    "model.add(Conv1D(filters=32, kernel_size=3, activation='relu', input_shape=(X_train.shape[1], 1)))\n",
    "model.add(MaxPooling1D(pool_size=2))\n",
    "model.add(Flatten())  # Flatten the output before the Dense layer\n",
    "model.add(Dense(64, activation='relu'))  # Second layer is Dense with 64 neurons and ReLU activation\n",
    "model.add(Dense(1, activation='sigmoid'))  # Output layer for binary classification\n"
   ]
  },
  {
   "cell_type": "code",
   "execution_count": 66,
   "metadata": {},
   "outputs": [],
   "source": [
    "# Compile the model\n",
    "model.compile(optimizer='adam', loss='binary_crossentropy', metrics=['accuracy'])"
   ]
  },
  {
   "cell_type": "code",
   "execution_count": 67,
   "metadata": {},
   "outputs": [
    {
     "name": "stdout",
     "output_type": "stream",
     "text": [
      "Epoch 1/10\n",
      "25/25 [==============================] - 0s 5ms/step - loss: 0.6039 - accuracy: 0.6873 - val_loss: 0.5893 - val_accuracy: 0.6742\n",
      "Epoch 2/10\n",
      "25/25 [==============================] - 0s 1ms/step - loss: 0.5716 - accuracy: 0.6948 - val_loss: 0.5837 - val_accuracy: 0.6742\n",
      "Epoch 3/10\n",
      "25/25 [==============================] - 0s 1ms/step - loss: 0.5536 - accuracy: 0.7112 - val_loss: 0.5702 - val_accuracy: 0.6629\n",
      "Epoch 4/10\n",
      "25/25 [==============================] - 0s 1ms/step - loss: 0.5459 - accuracy: 0.7251 - val_loss: 0.5770 - val_accuracy: 0.6629\n",
      "Epoch 5/10\n",
      "25/25 [==============================] - 0s 1ms/step - loss: 0.5312 - accuracy: 0.7352 - val_loss: 0.5830 - val_accuracy: 0.6854\n",
      "Epoch 6/10\n",
      "25/25 [==============================] - 0s 1ms/step - loss: 0.5220 - accuracy: 0.7364 - val_loss: 0.5807 - val_accuracy: 0.6854\n",
      "Epoch 7/10\n",
      "25/25 [==============================] - 0s 1ms/step - loss: 0.5191 - accuracy: 0.7352 - val_loss: 0.6022 - val_accuracy: 0.6854\n",
      "Epoch 8/10\n",
      "25/25 [==============================] - 0s 1ms/step - loss: 0.5154 - accuracy: 0.7364 - val_loss: 0.6357 - val_accuracy: 0.6966\n",
      "Epoch 9/10\n",
      "25/25 [==============================] - 0s 1ms/step - loss: 0.5092 - accuracy: 0.7314 - val_loss: 0.6210 - val_accuracy: 0.6966\n",
      "Epoch 10/10\n",
      "25/25 [==============================] - 0s 2ms/step - loss: 0.5086 - accuracy: 0.7579 - val_loss: 0.5961 - val_accuracy: 0.6854\n"
     ]
    },
    {
     "data": {
      "text/plain": [
       "<keras.src.callbacks.History at 0x28fd00a00>"
      ]
     },
     "execution_count": 67,
     "metadata": {},
     "output_type": "execute_result"
    }
   ],
   "source": [
    "# Train the model\n",
    "model.fit(X_train, y_train, epochs=10, batch_size=32, validation_split=0.1)"
   ]
  },
  {
   "cell_type": "code",
   "execution_count": 68,
   "metadata": {},
   "outputs": [
    {
     "name": "stdout",
     "output_type": "stream",
     "text": [
      "4/4 [==============================] - 0s 1ms/step\n",
      "Test Accuracy: 0.7346938775510204\n"
     ]
    }
   ],
   "source": [
    "# Evaluate the model on the test set\n",
    "y_pred = model.predict(X_test)\n",
    "y_pred_classes = (y_pred > 0.5).astype(int)\n",
    "\n",
    "accuracy = accuracy_score(y_test, y_pred_classes)\n",
    "print(f'Test Accuracy: {accuracy}')"
   ]
  },
  {
   "cell_type": "code",
   "execution_count": 2,
   "metadata": {},
   "outputs": [
    {
     "name": "stdout",
     "output_type": "stream",
     "text": [
      "Defaulting to user installation because normal site-packages is not writeable\n",
      "Collecting pylsl\n",
      "  Downloading pylsl-1.16.2-py2.py3-none-any.whl (36 kB)\n",
      "Installing collected packages: pylsl\n",
      "Successfully installed pylsl-1.16.2\n",
      "\u001b[33mWARNING: You are using pip version 21.2.4; however, version 23.3.1 is available.\n",
      "You should consider upgrading via the '/Library/Developer/CommandLineTools/usr/bin/python3 -m pip install --upgrade pip' command.\u001b[0m\n",
      "Note: you may need to restart the kernel to use updated packages.\n"
     ]
    }
   ],
   "source": [
    "%pip install pylsl"
   ]
  },
  {
   "cell_type": "code",
   "execution_count": 1,
   "metadata": {},
   "outputs": [
    {
     "name": "stdout",
     "output_type": "stream",
     "text": [
      "Looking for an EEG stream...\n"
     ]
    },
    {
     "name": "stderr",
     "output_type": "stream",
     "text": [
      "2023-12-04 08:06:34.310 (   0.001s) [          2B6F05]      netinterfaces.cpp:91    INFO| netif 'lo0' (status: 1, multicast: 32768, broadcast: 0)\n",
      "2023-12-04 08:06:34.310 (   0.001s) [          2B6F05]      netinterfaces.cpp:91    INFO| netif 'lo0' (status: 1, multicast: 32768, broadcast: 0)\n",
      "2023-12-04 08:06:34.310 (   0.001s) [          2B6F05]      netinterfaces.cpp:102   INFO| \tIPv4 addr: 7f000001\n",
      "2023-12-04 08:06:34.310 (   0.001s) [          2B6F05]      netinterfaces.cpp:91    INFO| netif 'lo0' (status: 1, multicast: 32768, broadcast: 0)\n",
      "2023-12-04 08:06:34.310 (   0.001s) [          2B6F05]      netinterfaces.cpp:105   INFO| \tIPv6 addr: ::1\n",
      "2023-12-04 08:06:34.311 (   0.001s) [          2B6F05]      netinterfaces.cpp:91    INFO| netif 'lo0' (status: 1, multicast: 32768, broadcast: 0)\n",
      "2023-12-04 08:06:34.311 (   0.001s) [          2B6F05]      netinterfaces.cpp:105   INFO| \tIPv6 addr: fe80::1%lo0\n",
      "2023-12-04 08:06:34.311 (   0.001s) [          2B6F05]      netinterfaces.cpp:91    INFO| netif 'gif0' (status: 0, multicast: 32768, broadcast: 0)\n",
      "2023-12-04 08:06:34.311 (   0.001s) [          2B6F05]      netinterfaces.cpp:91    INFO| netif 'stf0' (status: 0, multicast: 0, broadcast: 0)\n",
      "2023-12-04 08:06:34.311 (   0.001s) [          2B6F05]      netinterfaces.cpp:91    INFO| netif 'anpi1' (status: 1, multicast: 32768, broadcast: 2)\n",
      "2023-12-04 08:06:34.311 (   0.001s) [          2B6F05]      netinterfaces.cpp:91    INFO| netif 'anpi1' (status: 1, multicast: 32768, broadcast: 2)\n",
      "2023-12-04 08:06:34.311 (   0.001s) [          2B6F05]      netinterfaces.cpp:105   INFO| \tIPv6 addr: fe80::184a:e6ff:fef2:d535%anpi1\n",
      "2023-12-04 08:06:34.311 (   0.001s) [          2B6F05]      netinterfaces.cpp:91    INFO| netif 'anpi0' (status: 1, multicast: 32768, broadcast: 2)\n",
      "2023-12-04 08:06:34.311 (   0.001s) [          2B6F05]      netinterfaces.cpp:91    INFO| netif 'anpi0' (status: 1, multicast: 32768, broadcast: 2)\n",
      "2023-12-04 08:06:34.311 (   0.001s) [          2B6F05]      netinterfaces.cpp:105   INFO| \tIPv6 addr: fe80::184a:e6ff:fef2:d534%anpi0\n",
      "2023-12-04 08:06:34.311 (   0.001s) [          2B6F05]      netinterfaces.cpp:91    INFO| netif 'en10' (status: 1, multicast: 32768, broadcast: 2)\n",
      "2023-12-04 08:06:34.311 (   0.001s) [          2B6F05]      netinterfaces.cpp:91    INFO| netif 'en13' (status: 1, multicast: 32768, broadcast: 2)\n",
      "2023-12-04 08:06:34.311 (   0.001s) [          2B6F05]      netinterfaces.cpp:91    INFO| netif 'en1' (status: 1, multicast: 32768, broadcast: 2)\n",
      "2023-12-04 08:06:34.311 (   0.001s) [          2B6F05]      netinterfaces.cpp:91    INFO| netif 'en2' (status: 1, multicast: 32768, broadcast: 2)\n",
      "2023-12-04 08:06:34.311 (   0.001s) [          2B6F05]      netinterfaces.cpp:91    INFO| netif 'bridge0' (status: 1, multicast: 32768, broadcast: 2)\n",
      "2023-12-04 08:06:34.311 (   0.001s) [          2B6F05]      netinterfaces.cpp:91    INFO| netif 'ap1' (status: 0, multicast: 32768, broadcast: 2)\n",
      "2023-12-04 08:06:34.311 (   0.001s) [          2B6F05]      netinterfaces.cpp:91    INFO| netif 'en0' (status: 1, multicast: 32768, broadcast: 2)\n",
      "2023-12-04 08:06:34.311 (   0.001s) [          2B6F05]      netinterfaces.cpp:91    INFO| netif 'en0' (status: 1, multicast: 32768, broadcast: 2)\n",
      "2023-12-04 08:06:34.311 (   0.001s) [          2B6F05]      netinterfaces.cpp:105   INFO| \tIPv6 addr: fe80::480:88c3:6cd8:e17f%en0\n",
      "2023-12-04 08:06:34.311 (   0.001s) [          2B6F05]      netinterfaces.cpp:91    INFO| netif 'en0' (status: 1, multicast: 32768, broadcast: 2)\n",
      "2023-12-04 08:06:34.311 (   0.001s) [          2B6F05]      netinterfaces.cpp:102   INFO| \tIPv4 addr: a840733\n",
      "2023-12-04 08:06:34.311 (   0.001s) [          2B6F05]      netinterfaces.cpp:91    INFO| netif 'awdl0' (status: 1, multicast: 32768, broadcast: 2)\n",
      "2023-12-04 08:06:34.311 (   0.001s) [          2B6F05]      netinterfaces.cpp:91    INFO| netif 'awdl0' (status: 1, multicast: 32768, broadcast: 2)\n",
      "2023-12-04 08:06:34.311 (   0.001s) [          2B6F05]      netinterfaces.cpp:105   INFO| \tIPv6 addr: fe80::6c2c:69ff:fe42:facd%awdl0\n",
      "2023-12-04 08:06:34.311 (   0.001s) [          2B6F05]      netinterfaces.cpp:91    INFO| netif 'llw0' (status: 1, multicast: 32768, broadcast: 2)\n",
      "2023-12-04 08:06:34.311 (   0.001s) [          2B6F05]      netinterfaces.cpp:91    INFO| netif 'llw0' (status: 1, multicast: 32768, broadcast: 2)\n",
      "2023-12-04 08:06:34.311 (   0.001s) [          2B6F05]      netinterfaces.cpp:105   INFO| \tIPv6 addr: fe80::6c2c:69ff:fe42:facd%llw0\n",
      "2023-12-04 08:06:34.311 (   0.001s) [          2B6F05]      netinterfaces.cpp:91    INFO| netif 'utun0' (status: 1, multicast: 32768, broadcast: 0)\n",
      "2023-12-04 08:06:34.311 (   0.001s) [          2B6F05]      netinterfaces.cpp:91    INFO| netif 'utun0' (status: 1, multicast: 32768, broadcast: 0)\n",
      "2023-12-04 08:06:34.311 (   0.001s) [          2B6F05]      netinterfaces.cpp:105   INFO| \tIPv6 addr: fe80::56fc:b232:3352:12a2%utun0\n",
      "2023-12-04 08:06:34.311 (   0.001s) [          2B6F05]      netinterfaces.cpp:91    INFO| netif 'utun1' (status: 1, multicast: 32768, broadcast: 0)\n",
      "2023-12-04 08:06:34.311 (   0.001s) [          2B6F05]      netinterfaces.cpp:91    INFO| netif 'utun1' (status: 1, multicast: 32768, broadcast: 0)\n",
      "2023-12-04 08:06:34.311 (   0.001s) [          2B6F05]      netinterfaces.cpp:105   INFO| \tIPv6 addr: fe80::3b0d:916c:e9f0:a127%utun1\n",
      "2023-12-04 08:06:34.311 (   0.001s) [          2B6F05]      netinterfaces.cpp:91    INFO| netif 'utun2' (status: 1, multicast: 32768, broadcast: 0)\n",
      "2023-12-04 08:06:34.311 (   0.001s) [          2B6F05]      netinterfaces.cpp:91    INFO| netif 'utun2' (status: 1, multicast: 32768, broadcast: 0)\n",
      "2023-12-04 08:06:34.311 (   0.001s) [          2B6F05]      netinterfaces.cpp:105   INFO| \tIPv6 addr: fe80::ce81:b1c:bd2c:69e%utun2\n",
      "2023-12-04 08:06:34.311 (   0.001s) [          2B6F05]      netinterfaces.cpp:91    INFO| netif 'utun3' (status: 1, multicast: 32768, broadcast: 0)\n",
      "2023-12-04 08:06:34.311 (   0.001s) [          2B6F05]      netinterfaces.cpp:91    INFO| netif 'utun3' (status: 1, multicast: 32768, broadcast: 0)\n",
      "2023-12-04 08:06:34.311 (   0.001s) [          2B6F05]      netinterfaces.cpp:105   INFO| \tIPv6 addr: fe80::3315:806e:18cd:bffd%utun3\n",
      "2023-12-04 08:06:34.311 (   0.002s) [          2B6F05]      netinterfaces.cpp:91    INFO| netif 'utun4' (status: 1, multicast: 32768, broadcast: 0)\n",
      "2023-12-04 08:06:34.311 (   0.002s) [          2B6F05]      netinterfaces.cpp:91    INFO| netif 'utun4' (status: 1, multicast: 32768, broadcast: 0)\n",
      "2023-12-04 08:06:34.311 (   0.002s) [          2B6F05]      netinterfaces.cpp:105   INFO| \tIPv6 addr: fe80::ab7d:4d20:9b1f:34e0%utun4\n",
      "2023-12-04 08:06:34.311 (   0.002s) [          2B6F05]         api_config.cpp:271   INFO| Loaded default config\n"
     ]
    }
   ],
   "source": [
    "import pylsl\n",
    "\n",
    "# Find the stream on the lab network\n",
    "print(\"Looking for an EEG stream...\")\n",
    "streams = pylsl.resolve_stream('type', 'EEG')\n",
    "\n",
    "# Create a new inlet to read from the stream\n",
    "inlet = pylsl.StreamInlet(streams[0])\n",
    "\n",
    "while True:\n",
    "    print(\"hello\")\n",
    "    # Get a new sample\n",
    "    sample, timestamp = inlet.pull_sample()\n",
    "    # Process the sample (e.g., feature extraction, scaling)\n",
    "    processed_sample = preprocess(sample)\n",
    "    \n",
    "    # Predict using your model\n",
    "    prediction = your_model.predict(processed_sample)\n",
    "    \n",
    "    # Process the prediction as needed\n",
    "    handle_prediction(prediction)\n"
   ]
  },
  {
   "cell_type": "code",
   "execution_count": null,
   "metadata": {},
   "outputs": [],
   "source": []
  }
 ],
 "metadata": {
  "kernelspec": {
   "display_name": "Python 3.9.6 64-bit",
   "language": "python",
   "name": "python3"
  },
  "language_info": {
   "codemirror_mode": {
    "name": "ipython",
    "version": 3
   },
   "file_extension": ".py",
   "mimetype": "text/x-python",
   "name": "python",
   "nbconvert_exporter": "python",
   "pygments_lexer": "ipython3",
   "version": "3.9.6"
  },
  "orig_nbformat": 4,
  "vscode": {
   "interpreter": {
    "hash": "31f2aee4e71d21fbe5cf8b01ff0e069b9275f58929596ceb00d14d90e3e16cd6"
   }
  }
 },
 "nbformat": 4,
 "nbformat_minor": 2
}
