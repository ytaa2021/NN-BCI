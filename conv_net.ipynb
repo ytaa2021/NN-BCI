{
 "cells": [
  {
   "cell_type": "code",
   "execution_count": 17,
   "metadata": {},
   "outputs": [],
   "source": [
    "import pandas as pd\n",
    "from sklearn.model_selection import train_test_split\n",
    "from sklearn.preprocessing import StandardScaler\n",
    "from sklearn.metrics import accuracy_score\n",
    "from tensorflow.keras.models import Sequential\n",
    "from tensorflow.keras.layers import Conv1D, MaxPooling1D, Flatten, Dense\n",
    "from tensorflow.keras.utils import to_categorical\n",
    "from sklearn.preprocessing import LabelEncoder"
   ]
  },
  {
   "cell_type": "code",
   "execution_count": 18,
   "metadata": {},
   "outputs": [],
   "source": [
    "# Load the data\n",
    "df = pd.read_csv('labeled-data.csv')\n",
    "\n",
    "# Extract features and labels\n",
    "X = df.iloc[:, 2:9].values  # assuming your features start from the 3rd column\n",
    "y = df['label'].values"
   ]
  },
  {
   "cell_type": "code",
   "execution_count": 30,
   "metadata": {},
   "outputs": [],
   "source": [
    "# Standardize the data\n",
    "scaler = StandardScaler()\n",
    "X = scaler.fit_transform(X)\n",
    "\n",
    "# Specify the order of your classes\n",
    "class_order = ['N', 'L', 'R', 'Done']  # Adjust this based on your actual class order\n",
    "\n",
    "label_encoder = LabelEncoder()\n",
    "label_encoder.fit(class_order)\n",
    "\n",
    "y_encoded = label_encoder.fit_transform(df['label'])\n",
    "\n",
    "# Convert labels to categorical\n",
    "y_one_hot = to_categorical(y_encoded)\n",
    "\n",
    "# Split the data into train and test sets\n",
    "X_train, X_test, y_train, y_test = train_test_split(X, y, test_size=0.1, random_state=42)\n"
   ]
  },
  {
   "cell_type": "code",
   "execution_count": 31,
   "metadata": {},
   "outputs": [],
   "source": [
    "# Reshape the data for Conv1D layer\n",
    "X_train = X_train.reshape(X_train.shape[0], X_train.shape[1], 1)\n",
    "X_test = X_test.reshape(X_test.shape[0], X_test.shape[1], 1)"
   ]
  },
  {
   "cell_type": "code",
   "execution_count": 32,
   "metadata": {},
   "outputs": [],
   "source": [
    "# Build the CNN model\n",
    "model = Sequential()\n",
    "model.add(Conv1D(filters=32, kernel_size=3, activation='relu', input_shape=(X_train.shape[1], 1)))\n",
    "model.add(MaxPooling1D(pool_size=2))\n",
    "model.add(Flatten())\n",
    "model.add(Dense(10, activation='relu'))\n"
   ]
  },
  {
   "cell_type": "code",
   "execution_count": 34,
   "metadata": {},
   "outputs": [],
   "source": [
    "model.add(Dense(y_train.shape[1], activation='softmax'))"
   ]
  },
  {
   "cell_type": "code",
   "execution_count": 36,
   "metadata": {},
   "outputs": [
    {
     "name": "stdout",
     "output_type": "stream",
     "text": [
      "Epoch 1/10\n",
      "39/39 [==============================] - 0s 4ms/step - loss: 1.1948 - accuracy: 0.4293 - val_loss: 1.1791 - val_accuracy: 0.4820\n",
      "Epoch 2/10\n",
      "39/39 [==============================] - 0s 1ms/step - loss: 1.1861 - accuracy: 0.4293 - val_loss: 1.1710 - val_accuracy: 0.4820\n",
      "Epoch 3/10\n",
      "39/39 [==============================] - 0s 1ms/step - loss: 1.1792 - accuracy: 0.4293 - val_loss: 1.1639 - val_accuracy: 0.4820\n",
      "Epoch 4/10\n",
      "39/39 [==============================] - 0s 1ms/step - loss: 1.1735 - accuracy: 0.4293 - val_loss: 1.1585 - val_accuracy: 0.4820\n",
      "Epoch 5/10\n",
      "39/39 [==============================] - 0s 1ms/step - loss: 1.1686 - accuracy: 0.4293 - val_loss: 1.1538 - val_accuracy: 0.4820\n",
      "Epoch 6/10\n",
      "39/39 [==============================] - 0s 1ms/step - loss: 1.1648 - accuracy: 0.4293 - val_loss: 1.1495 - val_accuracy: 0.4820\n",
      "Epoch 7/10\n",
      "39/39 [==============================] - 0s 1ms/step - loss: 1.1612 - accuracy: 0.4293 - val_loss: 1.1460 - val_accuracy: 0.4820\n",
      "Epoch 8/10\n",
      "39/39 [==============================] - 0s 1ms/step - loss: 1.1581 - accuracy: 0.4293 - val_loss: 1.1436 - val_accuracy: 0.4820\n",
      "Epoch 9/10\n",
      "39/39 [==============================] - 0s 1ms/step - loss: 1.1555 - accuracy: 0.4293 - val_loss: 1.1408 - val_accuracy: 0.4820\n",
      "Epoch 10/10\n",
      "39/39 [==============================] - 0s 1ms/step - loss: 1.1534 - accuracy: 0.4293 - val_loss: 1.1394 - val_accuracy: 0.4820\n"
     ]
    },
    {
     "data": {
      "text/plain": [
       "<keras.src.callbacks.History at 0x290d9adc0>"
      ]
     },
     "execution_count": 36,
     "metadata": {},
     "output_type": "execute_result"
    }
   ],
   "source": [
    "# Compile the model\n",
    "model.compile(optimizer='adam', loss='categorical_crossentropy', metrics=['accuracy'])\n",
    "\n",
    "# Train the model\n",
    "model.fit(X_train, y_train, epochs=10, batch_size=32, validation_split=0.1)\n"
   ]
  },
  {
   "cell_type": "code",
   "execution_count": 37,
   "metadata": {},
   "outputs": [
    {
     "name": "stdout",
     "output_type": "stream",
     "text": [
      "5/5 [==============================] - 0s 1ms/step\n",
      "Test Accuracy: 0.44805194805194803\n"
     ]
    }
   ],
   "source": [
    "# Evaluate the model on the test set\n",
    "y_pred = model.predict(X_test)\n",
    "y_pred_classes = y_pred.argmax(axis=-1)\n",
    "y_test_classes = y_test.argmax(axis=-1)\n",
    "\n",
    "accuracy = accuracy_score(y_test_classes, y_pred_classes)\n",
    "print(f'Test Accuracy: {accuracy}')"
   ]
  }
 ],
 "metadata": {
  "kernelspec": {
   "display_name": "Python 3.9.6 64-bit",
   "language": "python",
   "name": "python3"
  },
  "language_info": {
   "codemirror_mode": {
    "name": "ipython",
    "version": 3
   },
   "file_extension": ".py",
   "mimetype": "text/x-python",
   "name": "python",
   "nbconvert_exporter": "python",
   "pygments_lexer": "ipython3",
   "version": "3.9.6"
  },
  "orig_nbformat": 4,
  "vscode": {
   "interpreter": {
    "hash": "31f2aee4e71d21fbe5cf8b01ff0e069b9275f58929596ceb00d14d90e3e16cd6"
   }
  }
 },
 "nbformat": 4,
 "nbformat_minor": 2
}
