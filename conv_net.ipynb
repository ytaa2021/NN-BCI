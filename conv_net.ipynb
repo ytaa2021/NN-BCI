{
 "cells": [
  {
   "cell_type": "code",
   "execution_count": 17,
   "metadata": {},
   "outputs": [],
   "source": [
    "import pandas as pd\n",
    "from sklearn.model_selection import train_test_split\n",
    "from sklearn.preprocessing import StandardScaler\n",
    "from sklearn.metrics import accuracy_score\n",
    "from tensorflow.keras.models import Sequential\n",
    "from tensorflow.keras.layers import Conv1D, MaxPooling1D, Flatten, Dense\n",
    "from tensorflow.keras.utils import to_categorical\n",
    "from sklearn.preprocessing import LabelEncoder"
   ]
  },
  {
   "cell_type": "code",
   "execution_count": 18,
   "metadata": {},
   "outputs": [],
   "source": [
    "# Load the data\n",
    "df = pd.read_csv('labeled-data.csv')\n",
    "\n",
    "# Extract features and labels\n",
    "X = df.iloc[:, 2:9].values  # assuming your features start from the 3rd column\n",
    "y = df['label'].values"
   ]
  },
  {
   "cell_type": "code",
   "execution_count": 23,
   "metadata": {},
   "outputs": [
    {
     "name": "stdout",
     "output_type": "stream",
     "text": [
      "['N' 'R' 'L' 'Done']\n",
      "Original Label\tEncoded Label (One-Hot Encoded)\n",
      "Done\t\t[0. 0. 1. 0.]\n",
      "L\t\t[0. 0. 1. 0.]\n",
      "N\t\t[0. 0. 1. 0.]\n",
      "R\t\t[0. 0. 1. 0.]\n"
     ]
    }
   ],
   "source": [
    "# Standardize the data\n",
    "scaler = StandardScaler()\n",
    "X = scaler.fit_transform(X)\n",
    "\n",
    "# Specify the order of your classes\n",
    "class_order = ['N', 'L', 'R', 'Done']  # Adjust this based on your actual class order\n",
    "\n",
    "label_encoder = LabelEncoder()\n",
    "label_encoder.fit(class_order)\n",
    "y_encoded = label_encoder.fit_transform(df['label'])\n",
    "\n",
    "# Convert labels to categorical\n",
    "y_one_hot = to_categorical(y_encoded)\n",
    "\n",
    "# Print the mapping between original and one-hot encoded labels\n",
    "print(\"Original Label\\tEncoded Label (One-Hot Encoded)\")\n",
    "for original_label, encoded_label in zip(label_encoder.classes_, y_one_hot):\n",
    "    print(f\"{original_label}\\t\\t{encoded_label}\")\n",
    "\n",
    "# Split the data into train and test sets\n",
    "X_train, X_test, y_train, y_test = train_test_split(X, y, test_size=0.1, random_state=42)\n"
   ]
  },
  {
   "cell_type": "code",
   "execution_count": 20,
   "metadata": {},
   "outputs": [],
   "source": [
    "# Reshape the data for Conv1D layer\n",
    "X_train = X_train.reshape(X_train.shape[0], X_train.shape[1], 1)\n",
    "X_test = X_test.reshape(X_test.shape[0], X_test.shape[1], 1)"
   ]
  },
  {
   "cell_type": "code",
   "execution_count": 21,
   "metadata": {},
   "outputs": [],
   "source": [
    "# Build the CNN model\n",
    "model = Sequential()\n",
    "model.add(Conv1D(filters=32, kernel_size=3, activation='relu', input_shape=(X_train.shape[1], 1)))\n",
    "model.add(MaxPooling1D(pool_size=2))\n",
    "model.add(Flatten())\n",
    "model.add(Dense(10, activation='relu'))\n"
   ]
  },
  {
   "cell_type": "code",
   "execution_count": 22,
   "metadata": {},
   "outputs": [
    {
     "name": "stdout",
     "output_type": "stream",
     "text": [
      "Shape of y_train: (1383, 4)\n"
     ]
    }
   ],
   "source": [
    "# Print the shape of y_train to understand its structure\n",
    "print(\"Shape of y_train:\", y_train.shape)\n",
    "model.add(Dense(y_train.shape[1], activation='softmax'))"
   ]
  }
 ],
 "metadata": {
  "kernelspec": {
   "display_name": "Python 3.9.6 64-bit",
   "language": "python",
   "name": "python3"
  },
  "language_info": {
   "codemirror_mode": {
    "name": "ipython",
    "version": 3
   },
   "file_extension": ".py",
   "mimetype": "text/x-python",
   "name": "python",
   "nbconvert_exporter": "python",
   "pygments_lexer": "ipython3",
   "version": "3.9.6"
  },
  "orig_nbformat": 4,
  "vscode": {
   "interpreter": {
    "hash": "31f2aee4e71d21fbe5cf8b01ff0e069b9275f58929596ceb00d14d90e3e16cd6"
   }
  }
 },
 "nbformat": 4,
 "nbformat_minor": 2
}
