{
 "cells": [
  {
   "cell_type": "code",
   "execution_count": 13,
   "metadata": {},
   "outputs": [],
   "source": [
    "import pandas as pd\n",
    "from sklearn.model_selection import train_test_split\n",
    "from sklearn.preprocessing import StandardScaler, LabelEncoder\n",
    "from sklearn.metrics import accuracy_score\n",
    "from tensorflow.keras.models import Sequential\n",
    "from tensorflow.keras.layers import Conv1D, MaxPooling1D, Flatten, Dense\n",
    "from tensorflow.keras.utils import to_categorical"
   ]
  },
  {
   "cell_type": "code",
   "execution_count": 14,
   "metadata": {},
   "outputs": [],
   "source": [
    "# Load the data\n",
    "df = pd.read_csv('labeled-data02.csv')\n",
    "\n",
    "# Exclude examples labeled 'Done'\n",
    "df_filtered = df[(df['label'] != 'Done') & (df['label'] != 'N')]\n",
    "\n",
    "# Extract features and labels\n",
    "# Only include features F3,F4,C3,Cz,C4,P3,P4\n",
    "X = df_filtered.iloc[:, 2:9].values \n",
    "y = df_filtered['label'].values"
   ]
  },
  {
   "cell_type": "code",
   "execution_count": 15,
   "metadata": {},
   "outputs": [],
   "source": [
    "# Specify the order of your classes\n",
    "class_order = ['L', 'R']  \n",
    "\n",
    "# Initialize and fit the LabelEncoder with specified classes\n",
    "label_encoder = LabelEncoder()\n",
    "label_encoder.fit(class_order)\n",
    "\n",
    "# Transform labels to encoded format\n",
    "y_encoded = label_encoder.transform(y)"
   ]
  },
  {
   "cell_type": "code",
   "execution_count": 16,
   "metadata": {},
   "outputs": [],
   "source": [
    "# Split the data into train and test sets\n",
    "X_train, X_test, y_train, y_test = train_test_split(X, y_encoded, test_size=0.1, random_state=42)\n",
    "\n",
    "# Reshape the data for Conv1D layer\n",
    "X_train = X_train.reshape(X_train.shape[0], X_train.shape[1], 1)\n",
    "X_test = X_test.reshape(X_test.shape[0], X_test.shape[1], 1)"
   ]
  },
  {
   "cell_type": "code",
   "execution_count": 17,
   "metadata": {},
   "outputs": [],
   "source": [
    "# X_train.shape[1] = number of features in data\n",
    "# Model with 1 convolution and 1 dense layer\n",
    "model = Sequential()\n",
    "model.add(Conv1D(filters=32, kernel_size=3, activation='relu', input_shape=(X_train.shape[1], 1)))\n",
    "model.add(MaxPooling1D(pool_size=2))\n",
    "model.add(Flatten())  # Flatten the output before the Dense layer\n",
    "model.add(Dense(64, activation='relu'))  # Second layer is Dense with 64 neurons and ReLU activation\n",
    "model.add(Dense(1, activation='sigmoid'))  # Output layer for binary classification\n"
   ]
  },
  {
   "cell_type": "code",
   "execution_count": 18,
   "metadata": {},
   "outputs": [],
   "source": [
    "# Compile the model\n",
    "model.compile(optimizer='adam', loss='binary_crossentropy', metrics=['accuracy'])"
   ]
  },
  {
   "cell_type": "code",
   "execution_count": 19,
   "metadata": {},
   "outputs": [
    {
     "name": "stdout",
     "output_type": "stream",
     "text": [
      "Epoch 1/10\n",
      "25/25 [==============================] - 0s 6ms/step - loss: 0.6539 - accuracy: 0.6305 - val_loss: 0.6094 - val_accuracy: 0.6742\n",
      "Epoch 2/10\n",
      "25/25 [==============================] - 0s 1ms/step - loss: 0.5926 - accuracy: 0.6898 - val_loss: 0.5761 - val_accuracy: 0.6742\n",
      "Epoch 3/10\n",
      "25/25 [==============================] - 0s 2ms/step - loss: 0.5707 - accuracy: 0.6961 - val_loss: 0.5727 - val_accuracy: 0.7079\n",
      "Epoch 4/10\n",
      "25/25 [==============================] - 0s 1ms/step - loss: 0.5574 - accuracy: 0.7125 - val_loss: 0.5536 - val_accuracy: 0.7079\n",
      "Epoch 5/10\n",
      "25/25 [==============================] - 0s 2ms/step - loss: 0.5430 - accuracy: 0.7188 - val_loss: 0.5561 - val_accuracy: 0.7191\n",
      "Epoch 6/10\n",
      "25/25 [==============================] - 0s 2ms/step - loss: 0.5352 - accuracy: 0.7314 - val_loss: 0.5891 - val_accuracy: 0.7079\n",
      "Epoch 7/10\n",
      "25/25 [==============================] - 0s 1ms/step - loss: 0.5320 - accuracy: 0.7364 - val_loss: 0.5711 - val_accuracy: 0.6966\n",
      "Epoch 8/10\n",
      "25/25 [==============================] - 0s 1ms/step - loss: 0.5235 - accuracy: 0.7377 - val_loss: 0.5802 - val_accuracy: 0.6854\n",
      "Epoch 9/10\n",
      "25/25 [==============================] - 0s 1ms/step - loss: 0.5165 - accuracy: 0.7415 - val_loss: 0.6031 - val_accuracy: 0.7191\n",
      "Epoch 10/10\n",
      "25/25 [==============================] - 0s 1ms/step - loss: 0.5222 - accuracy: 0.7364 - val_loss: 0.5899 - val_accuracy: 0.7079\n"
     ]
    },
    {
     "data": {
      "text/plain": [
       "<keras.src.callbacks.History at 0x28b1e38e0>"
      ]
     },
     "execution_count": 19,
     "metadata": {},
     "output_type": "execute_result"
    }
   ],
   "source": [
    "# Train the model\n",
    "model.fit(X_train, y_train, epochs=10, batch_size=32, validation_split=0.1)"
   ]
  },
  {
   "cell_type": "code",
   "execution_count": 20,
   "metadata": {},
   "outputs": [
    {
     "name": "stdout",
     "output_type": "stream",
     "text": [
      "4/4 [==============================] - 0s 984us/step\n",
      "Test Accuracy: 0.7244897959183674\n"
     ]
    }
   ],
   "source": [
    "# Evaluate the model on the test set\n",
    "y_pred = model.predict(X_test)\n",
    "y_pred_classes = (y_pred > 0.5).astype(int)\n",
    "\n",
    "accuracy = accuracy_score(y_test, y_pred_classes)\n",
    "print(f'Test Accuracy: {accuracy}')"
   ]
  }
 ],
 "metadata": {
  "kernelspec": {
   "display_name": "Python 3.9.6 64-bit",
   "language": "python",
   "name": "python3"
  },
  "language_info": {
   "codemirror_mode": {
    "name": "ipython",
    "version": 3
   },
   "file_extension": ".py",
   "mimetype": "text/x-python",
   "name": "python",
   "nbconvert_exporter": "python",
   "pygments_lexer": "ipython3",
   "version": "3.9.6"
  },
  "orig_nbformat": 4,
  "vscode": {
   "interpreter": {
    "hash": "31f2aee4e71d21fbe5cf8b01ff0e069b9275f58929596ceb00d14d90e3e16cd6"
   }
  }
 },
 "nbformat": 4,
 "nbformat_minor": 2
}
